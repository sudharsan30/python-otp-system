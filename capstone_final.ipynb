{
  "nbformat": 4,
  "nbformat_minor": 0,
  "metadata": {
    "colab": {
      "provenance": []
    },
    "kernelspec": {
      "name": "python3",
      "display_name": "Python 3"
    },
    "language_info": {
      "name": "python"
    }
  },
  "cells": [
    {
      "cell_type": "code",
      "execution_count": 1,
      "metadata": {
        "colab": {
          "base_uri": "https://localhost:8080/"
        },
        "id": "6M1UBrrYh8kE",
        "outputId": "adb33861-24d7-4e25-db72-6cce5bdaf25e"
      },
      "outputs": [
        {
          "output_type": "stream",
          "name": "stdout",
          "text": [
            "Enter your email address: connectsudhar@gmail.com\n",
            "OTP sent successfully!\n",
            "Enter the OTP you have received: 183487\n",
            "Access granted!!\n"
          ]
        }
      ],
      "source": [
        "import smtplib # Import SMTP library to send emails\n",
        "import random # Importing the random library to generate OTPs\n",
        "\n",
        "# Function to generate a six-digit OTP\n",
        "def generate_otp():\n",
        "    return str(random.randint(100000,999999))\n",
        "\n",
        "# Function to send OTP via email\n",
        "def send_otp_email(email, otp):\n",
        "    smtp_server = 'smtp.gmail.com' # SMTP server for Gmail\n",
        "    smtp_port = 587   # SMTP port for Gmail\n",
        "\n",
        "    sender_email = 'connectsudhar@gmail.com' # Sender's email address\n",
        "    sender_password = 'fxkc udpn gltu xgnv'\n",
        "    subject = 'Your One Time Password (OTP)'\n",
        "    body = f'Your OTP is: {otp}'\n",
        "    message = f'Subject: {subject}\\n\\n{body}'\n",
        "\n",
        "    try:\n",
        "        server = smtplib.SMTP(smtp_server, smtp_port) # Connect to SMTP server\n",
        "        server.starttls()  # For security\n",
        "        server.login(sender_email, sender_password)\n",
        "        server.sendmail(sender_email, email, message)\n",
        "        print('OTP sent successfully!')\n",
        "    except Exception as e:\n",
        "        print(f'Failed to send OTP: {e}')\n",
        "    finally:\n",
        "        server.quit()  # Quit the SMTP server connection\n",
        "\n",
        "def validate_otp(otp, entered_otp): # Function to validate entered OTP\n",
        "    n = 1\n",
        "    while n <= 3:\n",
        "        if otp == entered_otp:\n",
        "            return 'Access granted!!'\n",
        "        else:\n",
        "            if n == 3:\n",
        "                print('Zero chance left')\n",
        "                return 'Access denied. OTP verification failed.'\n",
        "            else:\n",
        "                print('You have entered the wrong OTP, please try again.')\n",
        "                print(f'You are left with {3 - n} chances.')\n",
        "                n += 1\n",
        "                entered_otp = input('Re-enter the OTP that was sent to your email: ')\n",
        "\n",
        "def main():  # Main function to execute the OTP verification process\n",
        "    user_email = input('Enter your email address: ')  # Prompting user to enter email address\n",
        "    otp = generate_otp() # OTP Generation\n",
        "    send_otp_email(user_email, otp)\n",
        "    entered_otp = input('Enter the OTP you have received: ') # Prompting user to enter the received OTP\n",
        "    print(validate_otp(otp, entered_otp))\n",
        "\n",
        "if __name__ == '__main__':\n",
        "    main()\n"
      ]
    }
  ]
}